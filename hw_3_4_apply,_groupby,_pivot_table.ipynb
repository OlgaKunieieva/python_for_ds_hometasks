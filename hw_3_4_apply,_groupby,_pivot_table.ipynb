{
 "cells": [
  {
   "cell_type": "markdown",
   "metadata": {
    "id": "LwNpAFw_eTF3"
   },
   "source": [
    "#Домашнє завдання до тем apply(), groupby(), pivot_table()"
   ]
  },
  {
   "cell_type": "markdown",
   "metadata": {
    "id": "vP2PEJyq8Yrj"
   },
   "source": [
    "В цьому домашньому завданні продовжуємо працювати з набором даних `supermarket_sales.csv`."
   ]
  },
  {
   "cell_type": "markdown",
   "metadata": {
    "id": "dh9lfpDb8gBL"
   },
   "source": [
    "0. Імпортуйте бібліотеку pandas та зчитайте дані у змінну `df` типу `pandas.DataFrame`."
   ]
  },
  {
   "cell_type": "code",
   "execution_count": 12,
   "metadata": {
    "id": "xBI9gJMK8qnl"
   },
   "outputs": [],
   "source": [
    "import pandas as pd\n",
    "data_path = '../data/supermarket_sales.csv'\n",
    "df = pd.read_csv(data_path)"
   ]
  },
  {
   "cell_type": "markdown",
   "metadata": {
    "id": "28638363"
   },
   "source": [
    "1. Дослідимо, який філіал супермаркету ('Branch') є найприбутковішим. Для цього знайдіть сумарний прибуток за кожним філіалом і виявіть, який філіал має найвищий."
   ]
  },
  {
   "cell_type": "code",
   "execution_count": 13,
   "metadata": {
    "ExecuteTime": {
     "end_time": "2022-11-01T17:27:42.023877Z",
     "start_time": "2022-11-01T17:27:42.020277Z"
    },
    "id": "916d731d",
    "scrolled": true
   },
   "outputs": [
    {
     "name": "stdout",
     "output_type": "stream",
     "text": [
      "Branch\n",
      "A    106200.3705\n",
      "B    106197.6720\n",
      "C    110568.7065\n",
      "Name: Total, dtype: float64\n"
     ]
    }
   ],
   "source": [
    "branch_profit = df.groupby('Branch')['Total'].sum()\n",
    "print(branch_profit)\n"
   ]
  },
  {
   "cell_type": "code",
   "execution_count": 16,
   "metadata": {},
   "outputs": [
    {
     "data": {
      "text/html": [
       "<div>\n",
       "<style scoped>\n",
       "    .dataframe tbody tr th:only-of-type {\n",
       "        vertical-align: middle;\n",
       "    }\n",
       "\n",
       "    .dataframe tbody tr th {\n",
       "        vertical-align: top;\n",
       "    }\n",
       "\n",
       "    .dataframe thead th {\n",
       "        text-align: right;\n",
       "    }\n",
       "</style>\n",
       "<table border=\"1\" class=\"dataframe\">\n",
       "  <thead>\n",
       "    <tr style=\"text-align: right;\">\n",
       "      <th></th>\n",
       "      <th>Invoice ID</th>\n",
       "      <th>Branch</th>\n",
       "      <th>City</th>\n",
       "      <th>Customer type</th>\n",
       "      <th>Gender</th>\n",
       "      <th>Product line</th>\n",
       "      <th>Unit price</th>\n",
       "      <th>Quantity</th>\n",
       "      <th>Tax 5%</th>\n",
       "      <th>Total</th>\n",
       "      <th>Date</th>\n",
       "      <th>Time</th>\n",
       "      <th>Payment</th>\n",
       "      <th>cogs</th>\n",
       "      <th>gross margin percentage</th>\n",
       "      <th>gross income</th>\n",
       "      <th>Rating</th>\n",
       "    </tr>\n",
       "  </thead>\n",
       "  <tbody>\n",
       "    <tr>\n",
       "      <th>0</th>\n",
       "      <td>750-67-8428</td>\n",
       "      <td>A</td>\n",
       "      <td>Yangon</td>\n",
       "      <td>Member</td>\n",
       "      <td>Female</td>\n",
       "      <td>Health and beauty</td>\n",
       "      <td>74.69</td>\n",
       "      <td>7</td>\n",
       "      <td>26.1415</td>\n",
       "      <td>548.9715</td>\n",
       "      <td>1/5/2019</td>\n",
       "      <td>13:08</td>\n",
       "      <td>Ewallet</td>\n",
       "      <td>522.83</td>\n",
       "      <td>4.761905</td>\n",
       "      <td>26.1415</td>\n",
       "      <td>9.1</td>\n",
       "    </tr>\n",
       "    <tr>\n",
       "      <th>1</th>\n",
       "      <td>226-31-3081</td>\n",
       "      <td>C</td>\n",
       "      <td>Naypyitaw</td>\n",
       "      <td>Normal</td>\n",
       "      <td>Female</td>\n",
       "      <td>Electronic accessories</td>\n",
       "      <td>15.28</td>\n",
       "      <td>5</td>\n",
       "      <td>3.8200</td>\n",
       "      <td>80.2200</td>\n",
       "      <td>3/8/2019</td>\n",
       "      <td>10:29</td>\n",
       "      <td>Cash</td>\n",
       "      <td>76.40</td>\n",
       "      <td>4.761905</td>\n",
       "      <td>3.8200</td>\n",
       "      <td>9.6</td>\n",
       "    </tr>\n",
       "    <tr>\n",
       "      <th>2</th>\n",
       "      <td>631-41-3108</td>\n",
       "      <td>A</td>\n",
       "      <td>Yangon</td>\n",
       "      <td>Normal</td>\n",
       "      <td>Male</td>\n",
       "      <td>Home and lifestyle</td>\n",
       "      <td>46.33</td>\n",
       "      <td>7</td>\n",
       "      <td>16.2155</td>\n",
       "      <td>340.5255</td>\n",
       "      <td>3/3/2019</td>\n",
       "      <td>13:23</td>\n",
       "      <td>Credit card</td>\n",
       "      <td>324.31</td>\n",
       "      <td>4.761905</td>\n",
       "      <td>16.2155</td>\n",
       "      <td>7.4</td>\n",
       "    </tr>\n",
       "    <tr>\n",
       "      <th>3</th>\n",
       "      <td>123-19-1176</td>\n",
       "      <td>A</td>\n",
       "      <td>Yangon</td>\n",
       "      <td>Member</td>\n",
       "      <td>Male</td>\n",
       "      <td>Health and beauty</td>\n",
       "      <td>58.22</td>\n",
       "      <td>8</td>\n",
       "      <td>23.2880</td>\n",
       "      <td>489.0480</td>\n",
       "      <td>1/27/2019</td>\n",
       "      <td>20:33</td>\n",
       "      <td>Ewallet</td>\n",
       "      <td>465.76</td>\n",
       "      <td>4.761905</td>\n",
       "      <td>23.2880</td>\n",
       "      <td>8.4</td>\n",
       "    </tr>\n",
       "    <tr>\n",
       "      <th>4</th>\n",
       "      <td>373-73-7910</td>\n",
       "      <td>A</td>\n",
       "      <td>Yangon</td>\n",
       "      <td>Normal</td>\n",
       "      <td>Male</td>\n",
       "      <td>Sports and travel</td>\n",
       "      <td>86.31</td>\n",
       "      <td>7</td>\n",
       "      <td>30.2085</td>\n",
       "      <td>634.3785</td>\n",
       "      <td>2/8/2019</td>\n",
       "      <td>10:37</td>\n",
       "      <td>Ewallet</td>\n",
       "      <td>604.17</td>\n",
       "      <td>4.761905</td>\n",
       "      <td>30.2085</td>\n",
       "      <td>5.3</td>\n",
       "    </tr>\n",
       "  </tbody>\n",
       "</table>\n",
       "</div>"
      ],
      "text/plain": [
       "    Invoice ID Branch       City Customer type  Gender  \\\n",
       "0  750-67-8428      A     Yangon        Member  Female   \n",
       "1  226-31-3081      C  Naypyitaw        Normal  Female   \n",
       "2  631-41-3108      A     Yangon        Normal    Male   \n",
       "3  123-19-1176      A     Yangon        Member    Male   \n",
       "4  373-73-7910      A     Yangon        Normal    Male   \n",
       "\n",
       "             Product line  Unit price  Quantity   Tax 5%     Total       Date  \\\n",
       "0       Health and beauty       74.69         7  26.1415  548.9715   1/5/2019   \n",
       "1  Electronic accessories       15.28         5   3.8200   80.2200   3/8/2019   \n",
       "2      Home and lifestyle       46.33         7  16.2155  340.5255   3/3/2019   \n",
       "3       Health and beauty       58.22         8  23.2880  489.0480  1/27/2019   \n",
       "4       Sports and travel       86.31         7  30.2085  634.3785   2/8/2019   \n",
       "\n",
       "    Time      Payment    cogs  gross margin percentage  gross income  Rating  \n",
       "0  13:08      Ewallet  522.83                 4.761905       26.1415     9.1  \n",
       "1  10:29         Cash   76.40                 4.761905        3.8200     9.6  \n",
       "2  13:23  Credit card  324.31                 4.761905       16.2155     7.4  \n",
       "3  20:33      Ewallet  465.76                 4.761905       23.2880     8.4  \n",
       "4  10:37      Ewallet  604.17                 4.761905       30.2085     5.3  "
      ]
     },
     "execution_count": 16,
     "metadata": {},
     "output_type": "execute_result"
    }
   ],
   "source": [
    "df.head()"
   ]
  },
  {
   "cell_type": "markdown",
   "metadata": {},
   "source": [
    "Найприбутковіший філіал - С"
   ]
  },
  {
   "cell_type": "markdown",
   "metadata": {
    "id": "2qL_OddUCZKK"
   },
   "source": [
    "2. В якому місті знайходиться філіал з найвищим прибутком? Може в тому місці нам розмітисти ще один магазин.  \n",
    "Знайдіть відповідь за допомогою функціоналу Pandas."
   ]
  },
  {
   "cell_type": "code",
   "execution_count": 14,
   "metadata": {
    "id": "bBJUc1dWCwdi"
   },
   "outputs": [
    {
     "name": "stdout",
     "output_type": "stream",
     "text": [
      "Місто з філіалом 'C': ['Naypyitaw']\n"
     ]
    }
   ],
   "source": [
    "branch_C_cities = df[df['Branch'] == 'C']['City'].unique()\n",
    "print(\"Місто з філіалом 'C':\", branch_C_cities)"
   ]
  },
  {
   "cell_type": "code",
   "execution_count": 15,
   "metadata": {},
   "outputs": [
    {
     "name": "stdout",
     "output_type": "stream",
     "text": [
      "Так, можна розмістити ще один магазин у місті 'Naypyitaw'.\n"
     ]
    }
   ],
   "source": [
    "\n",
    "unique_branches_in_city_C = df[df['City'] == branch_C_cities[0]]['Branch'].unique()\n",
    "\n",
    "num_unique_branches_in_city_C = len(unique_branches_in_city_C)\n",
    "\n",
    "total_branches_in_city_C = len(df[df['City'] == branch_C_cities[0]])\n",
    "\n",
    "if num_unique_branches_in_city_C < total_branches_in_city_C:\n",
    "    print(f\"Так, можна розмістити ще один магазин у місті '{branch_C_cities[0]}'.\")\n",
    "else:\n",
    "    print(f\"Ні, не можна розмістити ще один магазин у місті '{branch_C_cities[0]}'.\")"
   ]
  },
  {
   "cell_type": "markdown",
   "metadata": {
    "id": "6dec795f"
   },
   "source": [
    "3.1. Створіть зводну таблицю, яка покаже, скільки покупок (інвойсів) було зроблено в кожній з філій (`Branch`) за різними категоріями товарів. Запишіть таблицю в змінну `invoices_by_category` і виведіть змінну на екран.\n",
    "Ця таблиця допоможе проаналізувати, в якій філії купують найбільше товарів кожної з категорій."
   ]
  },
  {
   "cell_type": "code",
   "execution_count": 18,
   "metadata": {
    "id": "N7TfUBf4ZrkX"
   },
   "outputs": [
    {
     "data": {
      "text/html": [
       "<div>\n",
       "<style scoped>\n",
       "    .dataframe tbody tr th:only-of-type {\n",
       "        vertical-align: middle;\n",
       "    }\n",
       "\n",
       "    .dataframe tbody tr th {\n",
       "        vertical-align: top;\n",
       "    }\n",
       "\n",
       "    .dataframe thead th {\n",
       "        text-align: right;\n",
       "    }\n",
       "</style>\n",
       "<table border=\"1\" class=\"dataframe\">\n",
       "  <thead>\n",
       "    <tr style=\"text-align: right;\">\n",
       "      <th></th>\n",
       "      <th>Branch</th>\n",
       "      <th>Product line</th>\n",
       "      <th>Invoice ID</th>\n",
       "    </tr>\n",
       "  </thead>\n",
       "  <tbody>\n",
       "    <tr>\n",
       "      <th>0</th>\n",
       "      <td>A</td>\n",
       "      <td>Electronic accessories</td>\n",
       "      <td>60</td>\n",
       "    </tr>\n",
       "    <tr>\n",
       "      <th>1</th>\n",
       "      <td>A</td>\n",
       "      <td>Fashion accessories</td>\n",
       "      <td>51</td>\n",
       "    </tr>\n",
       "    <tr>\n",
       "      <th>2</th>\n",
       "      <td>A</td>\n",
       "      <td>Food and beverages</td>\n",
       "      <td>58</td>\n",
       "    </tr>\n",
       "    <tr>\n",
       "      <th>3</th>\n",
       "      <td>A</td>\n",
       "      <td>Health and beauty</td>\n",
       "      <td>47</td>\n",
       "    </tr>\n",
       "    <tr>\n",
       "      <th>4</th>\n",
       "      <td>A</td>\n",
       "      <td>Home and lifestyle</td>\n",
       "      <td>65</td>\n",
       "    </tr>\n",
       "    <tr>\n",
       "      <th>5</th>\n",
       "      <td>A</td>\n",
       "      <td>Sports and travel</td>\n",
       "      <td>59</td>\n",
       "    </tr>\n",
       "    <tr>\n",
       "      <th>6</th>\n",
       "      <td>B</td>\n",
       "      <td>Electronic accessories</td>\n",
       "      <td>55</td>\n",
       "    </tr>\n",
       "    <tr>\n",
       "      <th>7</th>\n",
       "      <td>B</td>\n",
       "      <td>Fashion accessories</td>\n",
       "      <td>62</td>\n",
       "    </tr>\n",
       "    <tr>\n",
       "      <th>8</th>\n",
       "      <td>B</td>\n",
       "      <td>Food and beverages</td>\n",
       "      <td>50</td>\n",
       "    </tr>\n",
       "    <tr>\n",
       "      <th>9</th>\n",
       "      <td>B</td>\n",
       "      <td>Health and beauty</td>\n",
       "      <td>53</td>\n",
       "    </tr>\n",
       "    <tr>\n",
       "      <th>10</th>\n",
       "      <td>B</td>\n",
       "      <td>Home and lifestyle</td>\n",
       "      <td>50</td>\n",
       "    </tr>\n",
       "    <tr>\n",
       "      <th>11</th>\n",
       "      <td>B</td>\n",
       "      <td>Sports and travel</td>\n",
       "      <td>62</td>\n",
       "    </tr>\n",
       "    <tr>\n",
       "      <th>12</th>\n",
       "      <td>C</td>\n",
       "      <td>Electronic accessories</td>\n",
       "      <td>55</td>\n",
       "    </tr>\n",
       "    <tr>\n",
       "      <th>13</th>\n",
       "      <td>C</td>\n",
       "      <td>Fashion accessories</td>\n",
       "      <td>65</td>\n",
       "    </tr>\n",
       "    <tr>\n",
       "      <th>14</th>\n",
       "      <td>C</td>\n",
       "      <td>Food and beverages</td>\n",
       "      <td>66</td>\n",
       "    </tr>\n",
       "    <tr>\n",
       "      <th>15</th>\n",
       "      <td>C</td>\n",
       "      <td>Health and beauty</td>\n",
       "      <td>52</td>\n",
       "    </tr>\n",
       "    <tr>\n",
       "      <th>16</th>\n",
       "      <td>C</td>\n",
       "      <td>Home and lifestyle</td>\n",
       "      <td>45</td>\n",
       "    </tr>\n",
       "    <tr>\n",
       "      <th>17</th>\n",
       "      <td>C</td>\n",
       "      <td>Sports and travel</td>\n",
       "      <td>45</td>\n",
       "    </tr>\n",
       "  </tbody>\n",
       "</table>\n",
       "</div>"
      ],
      "text/plain": [
       "   Branch            Product line  Invoice ID\n",
       "0       A  Electronic accessories          60\n",
       "1       A     Fashion accessories          51\n",
       "2       A      Food and beverages          58\n",
       "3       A       Health and beauty          47\n",
       "4       A      Home and lifestyle          65\n",
       "5       A       Sports and travel          59\n",
       "6       B  Electronic accessories          55\n",
       "7       B     Fashion accessories          62\n",
       "8       B      Food and beverages          50\n",
       "9       B       Health and beauty          53\n",
       "10      B      Home and lifestyle          50\n",
       "11      B       Sports and travel          62\n",
       "12      C  Electronic accessories          55\n",
       "13      C     Fashion accessories          65\n",
       "14      C      Food and beverages          66\n",
       "15      C       Health and beauty          52\n",
       "16      C      Home and lifestyle          45\n",
       "17      C       Sports and travel          45"
      ]
     },
     "execution_count": 18,
     "metadata": {},
     "output_type": "execute_result"
    }
   ],
   "source": [
    "invoices_by_category = df.groupby(['Branch','Product line'])['Invoice ID'].count().reset_index()\n",
    "invoices_by_category"
   ]
  },
  {
   "cell_type": "code",
   "execution_count": 19,
   "metadata": {},
   "outputs": [
    {
     "data": {
      "text/html": [
       "<div>\n",
       "<style scoped>\n",
       "    .dataframe tbody tr th:only-of-type {\n",
       "        vertical-align: middle;\n",
       "    }\n",
       "\n",
       "    .dataframe tbody tr th {\n",
       "        vertical-align: top;\n",
       "    }\n",
       "\n",
       "    .dataframe thead th {\n",
       "        text-align: right;\n",
       "    }\n",
       "</style>\n",
       "<table border=\"1\" class=\"dataframe\">\n",
       "  <thead>\n",
       "    <tr style=\"text-align: right;\">\n",
       "      <th>Product line</th>\n",
       "      <th>Electronic accessories</th>\n",
       "      <th>Fashion accessories</th>\n",
       "      <th>Food and beverages</th>\n",
       "      <th>Health and beauty</th>\n",
       "      <th>Home and lifestyle</th>\n",
       "      <th>Sports and travel</th>\n",
       "    </tr>\n",
       "    <tr>\n",
       "      <th>Branch</th>\n",
       "      <th></th>\n",
       "      <th></th>\n",
       "      <th></th>\n",
       "      <th></th>\n",
       "      <th></th>\n",
       "      <th></th>\n",
       "    </tr>\n",
       "  </thead>\n",
       "  <tbody>\n",
       "    <tr>\n",
       "      <th>A</th>\n",
       "      <td>60</td>\n",
       "      <td>51</td>\n",
       "      <td>58</td>\n",
       "      <td>47</td>\n",
       "      <td>65</td>\n",
       "      <td>59</td>\n",
       "    </tr>\n",
       "    <tr>\n",
       "      <th>B</th>\n",
       "      <td>55</td>\n",
       "      <td>62</td>\n",
       "      <td>50</td>\n",
       "      <td>53</td>\n",
       "      <td>50</td>\n",
       "      <td>62</td>\n",
       "    </tr>\n",
       "    <tr>\n",
       "      <th>C</th>\n",
       "      <td>55</td>\n",
       "      <td>65</td>\n",
       "      <td>66</td>\n",
       "      <td>52</td>\n",
       "      <td>45</td>\n",
       "      <td>45</td>\n",
       "    </tr>\n",
       "  </tbody>\n",
       "</table>\n",
       "</div>"
      ],
      "text/plain": [
       "Product line  Electronic accessories  Fashion accessories  Food and beverages  \\\n",
       "Branch                                                                          \n",
       "A                                 60                   51                  58   \n",
       "B                                 55                   62                  50   \n",
       "C                                 55                   65                  66   \n",
       "\n",
       "Product line  Health and beauty  Home and lifestyle  Sports and travel  \n",
       "Branch                                                                  \n",
       "A                            47                  65                 59  \n",
       "B                            53                  50                 62  \n",
       "C                            52                  45                 45  "
      ]
     },
     "execution_count": 19,
     "metadata": {},
     "output_type": "execute_result"
    }
   ],
   "source": [
    "invoices_by_category.pivot_table(index = 'Branch',columns = 'Product line', values = 'Invoice ID')"
   ]
  },
  {
   "cell_type": "markdown",
   "metadata": {
    "ExecuteTime": {
     "end_time": "2022-11-01T16:50:46.961201Z",
     "start_time": "2022-11-01T16:50:46.955894Z"
    },
    "id": "f5bbfa34"
   },
   "source": [
    "Очікуваний результат:"
   ]
  },
  {
   "cell_type": "markdown",
   "metadata": {
    "id": "34b9bcdc"
   },
   "source": [
    "![](https://drive.google.com/uc?export=view&id=1rueAdko6S3UxIHGtojetTxlES-EyM6Yb)"
   ]
  },
  {
   "cell_type": "markdown",
   "metadata": {
    "id": "woygDEA0OSwJ"
   },
   "source": [
    "3.2. Викристовуючи змінну `invoices_by_category` дайте відповідь програмно (тобто значення треба не просто знайти очима, а вивести за допомогою коду), в якому філіалі магазину (`Branch`) найбільше інвойсів із покупкою товарів категорії \"Електронні аксесуари\" (`Electronic accessories`)?\n"
   ]
  },
  {
   "cell_type": "code",
   "execution_count": 23,
   "metadata": {
    "id": "B5x8kTE-Qcq8"
   },
   "outputs": [
    {
     "data": {
      "text/plain": [
       "Branch                               C\n",
       "Product line    Electronic accessories\n",
       "Invoice ID                          60\n",
       "dtype: object"
      ]
     },
     "execution_count": 23,
     "metadata": {},
     "output_type": "execute_result"
    }
   ],
   "source": [
    "invoices_by_category[invoices_by_category['Product line']=='Electronic accessories'].max()"
   ]
  },
  {
   "cell_type": "markdown",
   "metadata": {
    "ExecuteTime": {
     "end_time": "2022-11-01T17:56:02.981755Z",
     "start_time": "2022-11-01T17:56:02.977086Z"
    },
    "id": "d005a2b8"
   },
   "source": [
    "4-6. **Творче завдання на розвиток аналітичного мислення**\n",
    "\n",
    "Крок 1. Сформулюйте ТРИ питання (гіпотези) до наявних даних, які допомогли б вам зрозуміти, які користувачі що, де та коли найбільше/найменше купують, аби дати на основі цих гіпотез рекомендації бізнесу. Звісно питання мають бути не тими, на які ми вже відповіли в завданнях модулю.\n",
    "\n",
    "Крок 2. Знайдіть відповіді на свої питання з допомогою функціоналу pandas.\n",
    "\n",
    "Крок 3. Напишіть, як відповідь на це питання може бути використана для прийняття бізнес рішень.   \n",
    "   \n",
    " Питання можуть бути будь-якої складності, але їх має бути 3. Кожне питання оцінюється як 1 завдання. Без виконання цього завдання ДЗ не приймається. Якщо є питання щодо виконання - пишіть у чат 🙌\n"
   ]
  },
  {
   "cell_type": "markdown",
   "metadata": {
    "id": "cM3cApWSZuRX"
   },
   "source": [
    "Часові піки покупок: Чи є часові проміжки, коли користувачі здійснюють більше покупок? Наприклад, чи більше покупок відбувається в ранковий час або вечором?\n",
    "\n",
    "Популярність різних категорій товарів за містами: Які категорії товарів є найбільш популярними у різних містах? Наприклад, чи більше продажів електроніки в одному місті порівняно з іншим?\n",
    "\n",
    "Гендерний аналіз: Чи існує кореляція сумою доходу і генедером? І можливо треба дослідити категорії товарів за генедром."
   ]
  },
  {
   "cell_type": "code",
   "execution_count": 24,
   "metadata": {},
   "outputs": [
    {
     "name": "stdout",
     "output_type": "stream",
     "text": [
      "Time\n",
      "10    101\n",
      "11     90\n",
      "12     89\n",
      "13    103\n",
      "14     83\n",
      "15    102\n",
      "16     77\n",
      "17     74\n",
      "18     93\n",
      "19    113\n",
      "20     75\n",
      "Name: Invoice ID, dtype: int64\n"
     ]
    }
   ],
   "source": [
    "### часові піки покупок\n",
    "\n",
    "hourly_purchase_counts = df.groupby(df['Time'].str.split(':').str[0])['Invoice ID'].count()\n",
    "print(hourly_purchase_counts)"
   ]
  },
  {
   "cell_type": "markdown",
   "metadata": {},
   "source": [
    "Оптимізація графіку роботи: Нами було виявлено часові піки - 10,13,15 година ранку і 19 година вечора, бізнес може розглянути можливість збільшення кількості персоналу або проведення маркетингових акцій у цей період."
   ]
  },
  {
   "cell_type": "code",
   "execution_count": 26,
   "metadata": {},
   "outputs": [
    {
     "name": "stdout",
     "output_type": "stream",
     "text": [
      "Product line            City     \n",
      "Electronic accessories  Mandalay      811.9735\n",
      "                        Naypyitaw     903.2845\n",
      "                        Yangon        872.2435\n",
      "Fashion accessories     Mandalay      781.5865\n",
      "                        Naypyitaw    1026.6700\n",
      "                        Yangon        777.7385\n",
      "Food and beverages      Mandalay      724.5185\n",
      "                        Naypyitaw    1131.7550\n",
      "                        Yangon        817.2905\n",
      "Health and beauty       Mandalay      951.4600\n",
      "                        Naypyitaw     791.2060\n",
      "                        Yangon        599.8930\n",
      "Home and lifestyle      Mandalay      835.6745\n",
      "                        Naypyitaw     661.6930\n",
      "                        Yangon       1067.4855\n",
      "Sports and travel       Mandalay      951.8190\n",
      "                        Naypyitaw     750.5680\n",
      "                        Yangon        922.5095\n",
      "Name: gross income, dtype: float64\n"
     ]
    }
   ],
   "source": [
    "#Популярність різних категорій товарів за містами\n",
    "category_city_sales = df.groupby(['Product line', 'City'])['Quantity'].sum()\n",
    "category_city_gross_income = df.groupby(['Product line', 'City'])['gross income'].sum()\n",
    "print(category_city_gross_income)"
   ]
  },
  {
   "cell_type": "markdown",
   "metadata": {},
   "source": [
    "Асортимент товарів: Знання популярних категорій товарів у різних містах допоможе бізнесу оптимізувати асортимент товарів у кожному філіалі для максимального задоволення попиту покупців. Так наприклад ми бачимо що найбільший дохід по категорії фешн ма маємо по другому місту - отже можливо тут ми продовжуємо збільшувати товари цієї категорії, а якщо в інших містах більш дохідні інші групи товарів отже ми робимо акцент в кожному місті на найбільш прибуткову категорію товарів. Та другий підхид - після визначення найбільш прибуткових груп товарів - можемо збільшувати акції на ці групи товарів в тих містах - де вони приносять менший дохід і збільшити там дохід."
   ]
  },
  {
   "cell_type": "code",
   "execution_count": 27,
   "metadata": {},
   "outputs": [
    {
     "name": "stdout",
     "output_type": "stream",
     "text": [
      "Сумарний дохід для чоловіків: 7384.944\n",
      "Сумарний дохід для жінок: 7994.424999999999\n",
      "\n",
      "Сумарний дохід за типами товарів для чоловіків:\n",
      "Product line\n",
      "Electronic accessories    1296.9290\n",
      "Fashion accessories       1136.5950\n",
      "Food and beverages        1093.9965\n",
      "Health and beauty         1458.7025\n",
      "Home and lifestyle        1134.5255\n",
      "Sports and travel         1264.1955\n",
      "Name: gross income, dtype: float64\n",
      "\n",
      "Сумарний дохід за типами товарів для жінок:\n",
      "Product line\n",
      "Electronic accessories    1290.5725\n",
      "Fashion accessories       1449.4000\n",
      "Food and beverages        1579.5675\n",
      "Health and beauty          883.8565\n",
      "Home and lifestyle        1430.3275\n",
      "Sports and travel         1360.7010\n",
      "Name: gross income, dtype: float64\n"
     ]
    }
   ],
   "source": [
    "#Гендерний аналіз\n",
    "male_data = df[df['Gender'] == 'Male']\n",
    "female_data = df[df['Gender'] == 'Female']\n",
    "\n",
    "male_income = male_data['gross income'].sum()\n",
    "female_income = female_data['gross income'].sum()\n",
    "\n",
    "# Згрупування за типами товарів та виконання підрахунку сумарного доходу для кожного типу товарів\n",
    "male_category_income = male_data.groupby('Product line')['gross income'].sum()\n",
    "female_category_income = female_data.groupby('Product line')['gross income'].sum()\n",
    "\n",
    "# Виведення результатів\n",
    "print(\"Сумарний дохід для чоловіків:\", male_income)\n",
    "print(\"Сумарний дохід для жінок:\", female_income)\n",
    "\n",
    "print(\"\\nСумарний дохід за типами товарів для чоловіків:\")\n",
    "print(male_category_income)\n",
    "\n",
    "print(\"\\nСумарний дохід за типами товарів для жінок:\")\n",
    "print(female_category_income)\n"
   ]
  },
  {
   "cell_type": "markdown",
   "metadata": {},
   "source": [
    "Сумарний дохід вищий ніж у чоловіків і основні категорії по яким найвищий дохід - їжі - одже значит жінки просто частіше роблять закупи продуктів - саме тому тут найвищий дохід - одже можливо необхідно зробити для жінок якісь більш направлені акції саме на ці групи товарів - можливо роздавати акційні пропозиції жінкам на касі для наступних покупок. По чоловікам найбільший дохід по категорії товарів - Health and beauty а також електроніка і спорт товари - отдже в подальшому ще можливо подивитис в яких містах більше роблять покупки чоловіки і там зробити акцент на цих групах товарів найбільше. Так само можна зробити і для жінок."
   ]
  }
 ],
 "metadata": {
  "colab": {
   "provenance": []
  },
  "kernelspec": {
   "display_name": "Python 3 (ipykernel)",
   "language": "python",
   "name": "python3"
  },
  "language_info": {
   "codemirror_mode": {
    "name": "ipython",
    "version": 3
   },
   "file_extension": ".py",
   "mimetype": "text/x-python",
   "name": "python",
   "nbconvert_exporter": "python",
   "pygments_lexer": "ipython3",
   "version": "3.11.5"
  }
 },
 "nbformat": 4,
 "nbformat_minor": 1
}
