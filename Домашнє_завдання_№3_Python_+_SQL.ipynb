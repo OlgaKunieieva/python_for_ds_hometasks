{
 "cells": [
  {
   "cell_type": "markdown",
   "id": "2153041f",
   "metadata": {
    "id": "2153041f"
   },
   "source": [
    "# Завдання на використання SQL в Python"
   ]
  },
  {
   "cell_type": "markdown",
   "id": "2c1af6e1",
   "metadata": {
    "ExecuteTime": {
     "end_time": "2022-11-27T18:04:46.316592Z",
     "start_time": "2022-11-27T18:04:46.302021Z"
    },
    "id": "2c1af6e1"
   },
   "source": [
    "1.Встановіть бібліотеку `mysql-connector-python` через pip aбо через conda."
   ]
  },
  {
   "cell_type": "code",
   "execution_count": 1,
   "id": "a8fcd64e",
   "metadata": {
    "id": "a8fcd64e"
   },
   "outputs": [
    {
     "name": "stdout",
     "output_type": "stream",
     "text": [
      "Collecting mysql-connector-python\n",
      "  Obtaining dependency information for mysql-connector-python from https://files.pythonhosted.org/packages/38/b4/44efe46d5aff497b6009e4755a5e26a99fd8fe2769857dffa21fad941767/mysql_connector_python-8.4.0-cp311-cp311-win_amd64.whl.metadata\n",
      "  Downloading mysql_connector_python-8.4.0-cp311-cp311-win_amd64.whl.metadata (2.0 kB)\n",
      "Downloading mysql_connector_python-8.4.0-cp311-cp311-win_amd64.whl (14.5 MB)\n",
      "   ---------------------------------------- 0.0/14.5 MB ? eta -:--:--\n",
      "   ---------------------------------------- 0.0/14.5 MB ? eta -:--:--\n",
      "   ---------------------------------------- 0.0/14.5 MB ? eta -:--:--\n",
      "   ---------------------------------------- 0.0/14.5 MB 330.3 kB/s eta 0:00:44\n",
      "   ---------------------------------------- 0.1/14.5 MB 262.6 kB/s eta 0:00:55\n",
      "   ---------------------------------------- 0.1/14.5 MB 383.3 kB/s eta 0:00:38\n",
      "    --------------------------------------- 0.2/14.5 MB 696.3 kB/s eta 0:00:21\n",
      "   - -------------------------------------- 0.5/14.5 MB 1.6 MB/s eta 0:00:09\n",
      "   -- ------------------------------------- 0.9/14.5 MB 2.7 MB/s eta 0:00:05\n",
      "   -- ------------------------------------- 1.0/14.5 MB 2.7 MB/s eta 0:00:05\n",
      "   -- ------------------------------------- 1.0/14.5 MB 2.7 MB/s eta 0:00:05\n",
      "   ----- ---------------------------------- 2.0/14.5 MB 4.4 MB/s eta 0:00:03\n",
      "   ----- ---------------------------------- 2.0/14.5 MB 4.4 MB/s eta 0:00:03\n",
      "   ----- ---------------------------------- 2.0/14.5 MB 4.4 MB/s eta 0:00:03\n",
      "   ----- ---------------------------------- 2.1/14.5 MB 3.4 MB/s eta 0:00:04\n",
      "   ------ --------------------------------- 2.3/14.5 MB 3.5 MB/s eta 0:00:04\n",
      "   -------- ------------------------------- 3.0/14.5 MB 4.2 MB/s eta 0:00:03\n",
      "   --------- ------------------------------ 3.5/14.5 MB 4.5 MB/s eta 0:00:03\n",
      "   ----------- ---------------------------- 4.0/14.5 MB 4.9 MB/s eta 0:00:03\n",
      "   ------------ --------------------------- 4.3/14.5 MB 5.0 MB/s eta 0:00:03\n",
      "   ------------- -------------------------- 4.9/14.5 MB 5.4 MB/s eta 0:00:02\n",
      "   -------------- ------------------------- 5.3/14.5 MB 5.6 MB/s eta 0:00:02\n",
      "   --------------- ------------------------ 5.7/14.5 MB 5.8 MB/s eta 0:00:02\n",
      "   ---------------- ----------------------- 6.1/14.5 MB 5.8 MB/s eta 0:00:02\n",
      "   ----------------- ---------------------- 6.5/14.5 MB 5.9 MB/s eta 0:00:02\n",
      "   ------------------- -------------------- 7.0/14.5 MB 6.1 MB/s eta 0:00:02\n",
      "   -------------------- ------------------- 7.5/14.5 MB 6.3 MB/s eta 0:00:02\n",
      "   ---------------------- ----------------- 8.0/14.5 MB 6.5 MB/s eta 0:00:01\n",
      "   ----------------------- ---------------- 8.6/14.5 MB 6.7 MB/s eta 0:00:01\n",
      "   ------------------------- -------------- 9.1/14.5 MB 6.8 MB/s eta 0:00:01\n",
      "   ------------------------- -------------- 9.3/14.5 MB 6.9 MB/s eta 0:00:01\n",
      "   -------------------------- ------------- 9.7/14.5 MB 6.8 MB/s eta 0:00:01\n",
      "   --------------------------- ------------ 10.0/14.5 MB 6.8 MB/s eta 0:00:01\n",
      "   ----------------------------- ---------- 10.5/14.5 MB 8.2 MB/s eta 0:00:01\n",
      "   ----------------------------- ---------- 10.8/14.5 MB 8.2 MB/s eta 0:00:01\n",
      "   ------------------------------ --------- 11.1/14.5 MB 8.0 MB/s eta 0:00:01\n",
      "   ------------------------------- -------- 11.4/14.5 MB 8.4 MB/s eta 0:00:01\n",
      "   -------------------------------- ------- 11.7/14.5 MB 8.1 MB/s eta 0:00:01\n",
      "   --------------------------------- ------ 12.0/14.5 MB 8.0 MB/s eta 0:00:01\n",
      "   ---------------------------------- ----- 12.3/14.5 MB 8.6 MB/s eta 0:00:01\n",
      "   ---------------------------------- ----- 12.6/14.5 MB 8.8 MB/s eta 0:00:01\n",
      "   ----------------------------------- ---- 12.9/14.5 MB 8.6 MB/s eta 0:00:01\n",
      "   ------------------------------------ --- 13.3/14.5 MB 8.5 MB/s eta 0:00:01\n",
      "   ------------------------------------- -- 13.6/14.5 MB 8.4 MB/s eta 0:00:01\n",
      "   -------------------------------------- - 13.9/14.5 MB 8.2 MB/s eta 0:00:01\n",
      "   ---------------------------------------  14.2/14.5 MB 8.1 MB/s eta 0:00:01\n",
      "   ---------------------------------------  14.4/14.5 MB 8.0 MB/s eta 0:00:01\n",
      "   ---------------------------------------  14.4/14.5 MB 8.0 MB/s eta 0:00:01\n",
      "   ---------------------------------------- 14.5/14.5 MB 7.4 MB/s eta 0:00:00\n",
      "Installing collected packages: mysql-connector-python\n",
      "Successfully installed mysql-connector-python-8.4.0\n"
     ]
    }
   ],
   "source": [
    "!pip install mysql-connector-python\n"
   ]
  },
  {
   "cell_type": "code",
   "execution_count": 43,
   "id": "13f9b87f",
   "metadata": {},
   "outputs": [],
   "source": [
    "import mysql.connector\n",
    "from mysql.connector.connection import MySQLConnection\n",
    "import datetime"
   ]
  },
  {
   "cell_type": "markdown",
   "id": "eec5551e",
   "metadata": {
    "id": "eec5551e",
    "pycharm": {
     "name": "#%% md\n"
    }
   },
   "source": [
    "2.В змінній `con` створіть підключення до бази даних employees за аналогією того, як це робилось в лекції:"
   ]
  },
  {
   "cell_type": "code",
   "execution_count": 44,
   "id": "e3fff0d8",
   "metadata": {
    "id": "e3fff0d8"
   },
   "outputs": [],
   "source": [
    "con = mysql.connector.connect(user='user1', password='7oygWy6P',\n",
    "                              host='3.68.62.36',\n",
    "                              database='employees')"
   ]
  },
  {
   "cell_type": "markdown",
   "id": "8b17a588",
   "metadata": {
    "ExecuteTime": {
     "end_time": "2022-01-26T22:23:01.406330Z",
     "start_time": "2022-01-26T22:23:01.403942Z"
    },
    "id": "8b17a588",
    "pycharm": {
     "name": "#%% md\n"
    }
   },
   "source": [
    "3.Виберіть максимальну і мінімальну дати найму співробітників використовуючи `con.cursor()`. Аби отримати результати в кінці, виконайте `cursor.fetchall()`."
   ]
  },
  {
   "cell_type": "code",
   "execution_count": 31,
   "id": "2d9785de",
   "metadata": {
    "id": "2d9785de"
   },
   "outputs": [],
   "source": [
    "cursor = con.cursor()\n"
   ]
  },
  {
   "cell_type": "code",
   "execution_count": 32,
   "id": "7f95460f",
   "metadata": {},
   "outputs": [],
   "source": [
    "cursor.execute(\"\"\"\n",
    "    SELECT MAX(hire_date), MIN(hire_date)\n",
    "    FROM employees\n",
    "\"\"\")"
   ]
  },
  {
   "cell_type": "code",
   "execution_count": 33,
   "id": "757a7688",
   "metadata": {},
   "outputs": [],
   "source": [
    "results = cursor.fetchall()\n"
   ]
  },
  {
   "cell_type": "code",
   "execution_count": 34,
   "id": "c1e72988",
   "metadata": {},
   "outputs": [],
   "source": [
    "cursor.close()\n",
    "con.close()"
   ]
  },
  {
   "cell_type": "code",
   "execution_count": 35,
   "id": "f565e3fa",
   "metadata": {},
   "outputs": [
    {
     "name": "stdout",
     "output_type": "stream",
     "text": [
      "Max hire date: 2000-01-28\n",
      "Min hire date: 1985-01-01\n"
     ]
    }
   ],
   "source": [
    "max_date, min_date = results[0]\n",
    "print(f\"Max hire date: {max_date}\")\n",
    "print(f\"Min hire date: {min_date}\")"
   ]
  },
  {
   "cell_type": "markdown",
   "id": "955dd2fa",
   "metadata": {
    "ExecuteTime": {
     "end_time": "2022-11-27T18:11:33.491134Z",
     "start_time": "2022-11-27T18:11:33.486973Z"
    },
    "id": "955dd2fa"
   },
   "source": [
    "Очікуваний результат:  \n",
    "    `[(datetime.date(2000, 1, 28), datetime.date(1985, 1, 1))]`"
   ]
  },
  {
   "cell_type": "markdown",
   "id": "1d9c214d",
   "metadata": {
    "ExecuteTime": {
     "end_time": "2023-07-14T15:52:49.876166Z",
     "start_time": "2023-07-14T15:52:49.855548Z"
    },
    "id": "1d9c214d"
   },
   "source": [
    "4.Давайте зберемо інформацію про останню ЗП кожного співробіткника в базі. З використанням `con.cursor()` виберіть з таблиці `salaries` для кожного співробітника його номер, останню в базі даних (тобто ту, що відповідає найновішій `to_date`) ЗП, та значення `from_date`, `to_date` для цієї ЗП.\n",
    "\n",
    "Результати запишіть у pandas DataFrame, який збережіть у змінну `res`. Як взяти з курсора назви колонок - вже наведено. На екран виведіть назви колонок в змінній `res`, розмір цього датафрейму та перші 3 записи в ньому.\n",
    "\n",
    "УВАГА! Зверніть увагу, що ЗП може оновлюватись протягом одного дня, тобто є випадки, коли апдейт ЗП був в певний день, скажімо 2001-01-01 і потім стався ще один апдейт ЗП цьому співробітнику цього самого дня. Запит має це враховувати.\n",
    "Також, теоретично ЗП може бути зменшена. Тож, брати дату з максимальною ЗП буде неправильно з точки зору бізнес логіки. Треба саме останнє історичне значення ЗП кожного співробітника."
   ]
  },
  {
   "cell_type": "code",
   "execution_count": 45,
   "id": "f326ba43",
   "metadata": {
    "id": "f326ba43"
   },
   "outputs": [],
   "source": [
    "cursor = con.cursor()"
   ]
  },
  {
   "cell_type": "code",
   "execution_count": 46,
   "id": "578f138a",
   "metadata": {},
   "outputs": [],
   "source": [
    "query = \"\"\"\n",
    "SELECT emp_no, salary, from_date, to_date\n",
    "FROM salaries s1\n",
    "WHERE to_date = (SELECT MAX(to_date)\n",
    "                 FROM salaries s2\n",
    "                 WHERE s1.emp_no = s2.emp_no)\n",
    "ORDER BY emp_no;\n",
    "\"\"\""
   ]
  },
  {
   "cell_type": "code",
   "execution_count": 47,
   "id": "80f44369",
   "metadata": {},
   "outputs": [],
   "source": [
    "cursor.execute(query)"
   ]
  },
  {
   "cell_type": "code",
   "execution_count": 48,
   "id": "56077788",
   "metadata": {},
   "outputs": [],
   "source": [
    "rows = cursor.fetchall()"
   ]
  },
  {
   "cell_type": "code",
   "execution_count": 49,
   "id": "bf5eb14d",
   "metadata": {
    "ExecuteTime": {
     "end_time": "2023-07-14T16:14:15.617144Z",
     "start_time": "2023-07-14T16:14:15.611369Z"
    },
    "id": "bf5eb14d"
   },
   "outputs": [],
   "source": [
    "field_names = [i[0] for i in cursor.description]"
   ]
  },
  {
   "cell_type": "code",
   "execution_count": 50,
   "id": "e403d4b7",
   "metadata": {},
   "outputs": [],
   "source": [
    "cursor.close()\n",
    "con.close()"
   ]
  },
  {
   "cell_type": "code",
   "execution_count": 52,
   "id": "5df4cc52",
   "metadata": {},
   "outputs": [],
   "source": [
    "import pandas as pd\n"
   ]
  },
  {
   "cell_type": "code",
   "execution_count": 54,
   "id": "e9213965",
   "metadata": {},
   "outputs": [],
   "source": [
    "res = pd.DataFrame(rows, columns=field_names)"
   ]
  },
  {
   "cell_type": "code",
   "execution_count": 55,
   "id": "7b2cfb38",
   "metadata": {},
   "outputs": [
    {
     "data": {
      "text/html": [
       "<div>\n",
       "<style scoped>\n",
       "    .dataframe tbody tr th:only-of-type {\n",
       "        vertical-align: middle;\n",
       "    }\n",
       "\n",
       "    .dataframe tbody tr th {\n",
       "        vertical-align: top;\n",
       "    }\n",
       "\n",
       "    .dataframe thead th {\n",
       "        text-align: right;\n",
       "    }\n",
       "</style>\n",
       "<table border=\"1\" class=\"dataframe\">\n",
       "  <thead>\n",
       "    <tr style=\"text-align: right;\">\n",
       "      <th></th>\n",
       "      <th>emp_no</th>\n",
       "      <th>salary</th>\n",
       "      <th>from_date</th>\n",
       "      <th>to_date</th>\n",
       "    </tr>\n",
       "  </thead>\n",
       "  <tbody>\n",
       "    <tr>\n",
       "      <th>0</th>\n",
       "      <td>10001</td>\n",
       "      <td>88958</td>\n",
       "      <td>2002-06-22</td>\n",
       "      <td>9999-01-01</td>\n",
       "    </tr>\n",
       "    <tr>\n",
       "      <th>1</th>\n",
       "      <td>10002</td>\n",
       "      <td>72527</td>\n",
       "      <td>2001-08-02</td>\n",
       "      <td>9999-01-01</td>\n",
       "    </tr>\n",
       "    <tr>\n",
       "      <th>2</th>\n",
       "      <td>10003</td>\n",
       "      <td>43311</td>\n",
       "      <td>2001-12-01</td>\n",
       "      <td>9999-01-01</td>\n",
       "    </tr>\n",
       "    <tr>\n",
       "      <th>3</th>\n",
       "      <td>10004</td>\n",
       "      <td>74057</td>\n",
       "      <td>2001-11-27</td>\n",
       "      <td>9999-01-01</td>\n",
       "    </tr>\n",
       "    <tr>\n",
       "      <th>4</th>\n",
       "      <td>10005</td>\n",
       "      <td>94692</td>\n",
       "      <td>2001-09-09</td>\n",
       "      <td>9999-01-01</td>\n",
       "    </tr>\n",
       "    <tr>\n",
       "      <th>...</th>\n",
       "      <td>...</td>\n",
       "      <td>...</td>\n",
       "      <td>...</td>\n",
       "      <td>...</td>\n",
       "    </tr>\n",
       "    <tr>\n",
       "      <th>300175</th>\n",
       "      <td>499995</td>\n",
       "      <td>52868</td>\n",
       "      <td>2002-06-01</td>\n",
       "      <td>9999-01-01</td>\n",
       "    </tr>\n",
       "    <tr>\n",
       "      <th>300176</th>\n",
       "      <td>499996</td>\n",
       "      <td>69501</td>\n",
       "      <td>2002-05-12</td>\n",
       "      <td>9999-01-01</td>\n",
       "    </tr>\n",
       "    <tr>\n",
       "      <th>300177</th>\n",
       "      <td>499997</td>\n",
       "      <td>83441</td>\n",
       "      <td>2001-08-26</td>\n",
       "      <td>9999-01-01</td>\n",
       "    </tr>\n",
       "    <tr>\n",
       "      <th>300178</th>\n",
       "      <td>499998</td>\n",
       "      <td>55003</td>\n",
       "      <td>2001-12-25</td>\n",
       "      <td>9999-01-01</td>\n",
       "    </tr>\n",
       "    <tr>\n",
       "      <th>300179</th>\n",
       "      <td>499999</td>\n",
       "      <td>77303</td>\n",
       "      <td>2001-11-29</td>\n",
       "      <td>9999-01-01</td>\n",
       "    </tr>\n",
       "  </tbody>\n",
       "</table>\n",
       "<p>300180 rows × 4 columns</p>\n",
       "</div>"
      ],
      "text/plain": [
       "        emp_no  salary   from_date     to_date\n",
       "0        10001   88958  2002-06-22  9999-01-01\n",
       "1        10002   72527  2001-08-02  9999-01-01\n",
       "2        10003   43311  2001-12-01  9999-01-01\n",
       "3        10004   74057  2001-11-27  9999-01-01\n",
       "4        10005   94692  2001-09-09  9999-01-01\n",
       "...        ...     ...         ...         ...\n",
       "300175  499995   52868  2002-06-01  9999-01-01\n",
       "300176  499996   69501  2002-05-12  9999-01-01\n",
       "300177  499997   83441  2001-08-26  9999-01-01\n",
       "300178  499998   55003  2001-12-25  9999-01-01\n",
       "300179  499999   77303  2001-11-29  9999-01-01\n",
       "\n",
       "[300180 rows x 4 columns]"
      ]
     },
     "execution_count": 55,
     "metadata": {},
     "output_type": "execute_result"
    }
   ],
   "source": [
    "res"
   ]
  },
  {
   "cell_type": "markdown",
   "id": "fb5676cb",
   "metadata": {
    "id": "fb5676cb"
   },
   "source": [
    "Очікуваний результат:\n",
    "\n",
    "![](https://drive.google.com/uc?export=view&id=1lNvzbAebtkj3C2v-I5AE6HkMH8MTI1kA)"
   ]
  },
  {
   "cell_type": "markdown",
   "id": "e5770b56",
   "metadata": {
    "ExecuteTime": {
     "end_time": "2023-07-14T16:17:31.638485Z",
     "start_time": "2023-07-14T16:17:31.632827Z"
    },
    "id": "e5770b56"
   },
   "source": [
    "5.В утвореній вибірці в змінній `res` скільки значень `to_date` рівні `9999-01-01`, а скільки - ні? Увага! Для виконання цього завдання важливо розуміти, який тип даних у значень колонки `to_date`. Зʼясуйте це, і потім напишіть фільтр для виводу потрібного результату."
   ]
  },
  {
   "cell_type": "code",
   "execution_count": 58,
   "id": "8a9dc7e5",
   "metadata": {
    "id": "8a9dc7e5"
   },
   "outputs": [
    {
     "data": {
      "text/plain": [
       "dtype('O')"
      ]
     },
     "execution_count": 58,
     "metadata": {},
     "output_type": "execute_result"
    }
   ],
   "source": [
    "res['to_date'].dtype\n"
   ]
  },
  {
   "cell_type": "code",
   "execution_count": 70,
   "id": "f14d9eca",
   "metadata": {},
   "outputs": [],
   "source": [
    "res['to_date'] = res['to_date'].astype(str)"
   ]
  },
  {
   "cell_type": "code",
   "execution_count": 71,
   "id": "41db19bf",
   "metadata": {},
   "outputs": [],
   "source": [
    "current_employees = res[res['to_date'] == '9999-01-01']\n",
    "\n",
    "\n",
    "count_equal = current_employees.shape[0]\n",
    "count_not_equal = res.shape[0] - count_equal"
   ]
  },
  {
   "cell_type": "code",
   "execution_count": 72,
   "id": "f5762028",
   "metadata": {},
   "outputs": [
    {
     "data": {
      "text/plain": [
       "240124"
      ]
     },
     "execution_count": 72,
     "metadata": {},
     "output_type": "execute_result"
    }
   ],
   "source": [
    "count_equal"
   ]
  },
  {
   "cell_type": "code",
   "execution_count": 73,
   "id": "bee9c16b",
   "metadata": {},
   "outputs": [
    {
     "data": {
      "text/plain": [
       "60056"
      ]
     },
     "execution_count": 73,
     "metadata": {},
     "output_type": "execute_result"
    }
   ],
   "source": [
    "count_not_equal"
   ]
  },
  {
   "cell_type": "markdown",
   "id": "ae22c37a",
   "metadata": {
    "id": "ae22c37a"
   },
   "source": [
    "6.Виведіть візуально розподіл (гістограму) зарплат співробітників, які досі працюють в компанії, використовуючи результат попереднього завдання. Співробітниками, які досі працюють в компанії вважаємо тих, в кого to_date має значення 9999-01-01. Обовʼязково підпишіть графік і вісі.\n",
    "\n",
    "Ці три завдання - приклад, як нам може бути зручно витягнути дані з бази певним запитом, а потім використати витягнуту вибірку у Python для подальшого аналізу."
   ]
  },
  {
   "cell_type": "code",
   "execution_count": 74,
   "id": "4eb40dbd",
   "metadata": {},
   "outputs": [],
   "source": [
    "import matplotlib.pyplot as plt"
   ]
  },
  {
   "cell_type": "code",
   "execution_count": 77,
   "id": "ede9a748",
   "metadata": {
    "id": "ede9a748"
   },
   "outputs": [
    {
     "data": {
      "image/png": "[encoded data removed]",
      "text/plain": [
       "<Figure size 1000x600 with 1 Axes>"
      ]
     },
     "metadata": {},
     "output_type": "display_data"
    }
   ],
   "source": [
    "current_employees = res[res['to_date'] == '9999-01-01']\n",
    "plt.figure(figsize=(10, 6))\n",
    "plt.hist(current_employees['salary'], bins=10, edgecolor='black')\n",
    "plt.title('Розподіл поточних зарплат в компанії')\n",
    "plt.xlabel('Зарплати')\n",
    "plt.ylabel('Кількість співробітників')\n",
    "plt.grid(axis='y', linestyle='--', alpha=0.7)\n",
    "plt.show()"
   ]
  },
  {
   "cell_type": "markdown",
   "id": "AL26SP3WMJiX",
   "metadata": {
    "id": "AL26SP3WMJiX"
   },
   "source": [
    "Очікуваний результат:\n",
    "\n",
    "![](https://drive.google.com/uc?export=view&id=1j8MHLC1E0revbQLM9B0UJs6tVEgoWhmK)"
   ]
  },
  {
   "cell_type": "markdown",
   "id": "Cp_JpGPpKmzp",
   "metadata": {
    "id": "Cp_JpGPpKmzp"
   },
   "source": [
    "НЕ ЗАБУВАЄМО ЗАКРИТИ ПІДКЛЮЧЕННЯ ДО БАЗИ :)"
   ]
  },
  {
   "cell_type": "code",
   "execution_count": 78,
   "id": "WEMo9bl6KnMh",
   "metadata": {
    "id": "WEMo9bl6KnMh"
   },
   "outputs": [],
   "source": [
    "con.close()"
   ]
  },
  {
   "cell_type": "code",
   "execution_count": null,
   "id": "60f208a3",
   "metadata": {},
   "outputs": [],
   "source": []
  }
 ],
 "metadata": {
  "colab": {
   "provenance": []
  },
  "kernelspec": {
   "display_name": "Python 3 (ipykernel)",
   "language": "python",
   "name": "python3"
  },
  "language_info": {
   "codemirror_mode": {
    "name": "ipython",
    "version": 3
   },
   "file_extension": ".py",
   "mimetype": "text/x-python",
   "name": "python",
   "nbconvert_exporter": "python",
   "pygments_lexer": "ipython3",
   "version": "3.11.5"
  },
  "toc": {
   "base_numbering": 1,
   "nav_menu": {},
   "number_sections": true,
   "sideBar": true,
   "skip_h1_title": false,
   "title_cell": "Table of Contents",
   "title_sidebar": "Contents",
   "toc_cell": false,
   "toc_position": {},
   "toc_section_display": true,
   "toc_window_display": false
  },
  "vscode": {
   "interpreter": {
    "hash": "a6511e6b41b26ba86cca7483749cf4dd15bf137a2672e550741a656e19bba82e"
   }
  }
 },
 "nbformat": 4,
 "nbformat_minor": 5
}
